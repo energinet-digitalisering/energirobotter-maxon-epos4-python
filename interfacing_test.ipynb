{
 "cells": [
  {
   "cell_type": "code",
   "execution_count": 2,
   "metadata": {},
   "outputs": [],
   "source": [
    "from src.EPOS4 import EPOS4\n",
    "\n",
    "motor_ctrl = EPOS4()"
   ]
  },
  {
   "cell_type": "code",
   "execution_count": 3,
   "metadata": {},
   "outputs": [
    {
     "name": "stdout",
     "output_type": "stream",
     "text": [
      "Starting...\n",
      "node_id: 1\n",
      "Could not open COM-Port\n",
      "Error Code 0x10000008\n",
      "Description:                                         \n",
      "Error Code 0x10000003\n",
      "Description:                                         \n",
      "Error during enabling Device\n"
     ]
    },
    {
     "data": {
      "text/plain": [
       "False"
      ]
     },
     "execution_count": 3,
     "metadata": {},
     "output_type": "execute_result"
    }
   ],
   "source": [
    "print(\"Starting...\")\n",
    "motor_ctrl.open_port()\n",
    "motor_ctrl.enable_device()"
   ]
  },
  {
   "cell_type": "code",
   "execution_count": 4,
   "metadata": {},
   "outputs": [
    {
     "name": "stdout",
     "output_type": "stream",
     "text": [
      "Moving...\n",
      "GetObject failed\n",
      "Wait finishing positioning...\n",
      "Loop: 1\n",
      "Loop: 2\n",
      "Loop: 3\n",
      "Loop: 4\n",
      "Loop: 5\n",
      "Loop: 6\n",
      "Loop: 7\n",
      "Loop: 8\n",
      "Loop: 9\n",
      "Loop: 10\n",
      "Cyclic movemenent finished\n",
      "GetPositionIs failed\n"
     ]
    },
    {
     "data": {
      "text/plain": [
       "False"
      ]
     },
     "execution_count": 4,
     "metadata": {},
     "output_type": "execute_result"
    }
   ],
   "source": [
    "print(\"Moving...\")\n",
    "motor_ctrl.get_position()\n",
    "motor_ctrl.cyclic_mode()\n",
    "motor_ctrl.get_position_is()"
   ]
  },
  {
   "cell_type": "code",
   "execution_count": 5,
   "metadata": {},
   "outputs": [
    {
     "name": "stdout",
     "output_type": "stream",
     "text": [
      "Closing...\n",
      "Error SetDisableState\n",
      "Error CloseDevice\n"
     ]
    },
    {
     "data": {
      "text/plain": [
       "False"
      ]
     },
     "execution_count": 5,
     "metadata": {},
     "output_type": "execute_result"
    }
   ],
   "source": [
    "print(\"Closing...\")\n",
    "motor_ctrl.disable_device()\n",
    "motor_ctrl.close_port()"
   ]
  }
 ],
 "metadata": {
  "kernelspec": {
   "display_name": "Python 3",
   "language": "python",
   "name": "python3"
  },
  "language_info": {
   "codemirror_mode": {
    "name": "ipython",
    "version": 3
   },
   "file_extension": ".py",
   "mimetype": "text/x-python",
   "name": "python",
   "nbconvert_exporter": "python",
   "pygments_lexer": "ipython3",
   "version": "3.10.11"
  }
 },
 "nbformat": 4,
 "nbformat_minor": 2
}
